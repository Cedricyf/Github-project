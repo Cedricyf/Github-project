{
 "cells": [
  {
   "cell_type": "markdown",
   "metadata": {},
   "source": [
    "# Topic for the capstone project"
   ]
  },
  {
   "cell_type": "markdown",
   "metadata": {},
   "source": [
    "Question: At which neighborhood Tom should open hi|s coffee shop?                 "
   ]
  },
  {
   "cell_type": "markdown",
   "metadata": {},
   "source": [
    "Tom wants to start a coffee shop in Toronto. But he is a beginner in this area and he does not want to open the coffee at a neighborhood where there are many coffee shops and very competitive. However, if he open the coffee shop at a neighbhood where there is no coffee shop, such neighborhood may be lack of residents and tourists which can be a problem for the revenue.Therefore, he wants to open his coffee shop at the neighborhood which has the number of coffee shop closest to the mean number of coffee shop in all neighborhood of Toronto. Moreover, Tom is not very confident with the taste of his coffee, therefore, he prefer the neighborhood with average coffee shop rating less than 8/10"
   ]
  },
  {
   "cell_type": "markdown",
   "metadata": {},
   "source": [
    "What data is needed and how to use it?"
   ]
  },
  {
   "cell_type": "markdown",
   "metadata": {},
   "source": [
    "The neighborhood information of Toronto with their exact coordinates are needed to extract the coffee shop information at Foursquare.com. Once the neighborhood data has been acquired and cleaned. Their location data will be loaded to Foursquare location data to find the coffee shops grouped by the neighborhood. After that the numbe of coffee shop in each neighborhood can be found. After rank them by the difference between average number of coffee shop in each neighborhood. Theaverage ranking will also be computed and Tom can then chose where to open his coffee shop."
   ]
  },
  {
   "cell_type": "code",
   "execution_count": null,
   "metadata": {},
   "outputs": [],
   "source": []
  }
 ],
 "metadata": {
  "kernelspec": {
   "display_name": "Python 3",
   "language": "python",
   "name": "python3"
  },
  "language_info": {
   "codemirror_mode": {
    "name": "ipython",
    "version": 3
   },
   "file_extension": ".py",
   "mimetype": "text/x-python",
   "name": "python",
   "nbconvert_exporter": "python",
   "pygments_lexer": "ipython3",
   "version": "3.7.3"
  }
 },
 "nbformat": 4,
 "nbformat_minor": 2
}
